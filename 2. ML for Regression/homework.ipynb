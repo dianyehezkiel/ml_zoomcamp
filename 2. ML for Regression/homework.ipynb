{
  "nbformat": 4,
  "nbformat_minor": 0,
  "metadata": {
    "colab": {
      "name": "homework_week2.ipynb",
      "provenance": [],
      "collapsed_sections": []
    },
    "kernelspec": {
      "name": "python3",
      "display_name": "Python 3"
    },
    "language_info": {
      "name": "python"
    }
  },
  "cells": [
    {
      "cell_type": "code",
      "metadata": {
        "id": "OY6MbBnSd2w4"
      },
      "source": [
        "import pandas as pd\n",
        "import numpy as np"
      ],
      "execution_count": 1,
      "outputs": []
    },
    {
      "cell_type": "code",
      "metadata": {
        "colab": {
          "base_uri": "https://localhost:8080/",
          "height": 411
        },
        "id": "tiK-IscAegYX",
        "outputId": "909e7b5b-a843-4a1b-d56a-bdecafa50899"
      },
      "source": [
        "!wget https://raw.githubusercontent.com/alexeygrigorev/datasets/master/AB_NYC_2019.csv\n",
        "\n",
        "df = pd.read_csv('AB_NYC_2019.csv')\n",
        "\n",
        "df = df[['latitude', 'longitude', 'price', 'minimum_nights', 'number_of_reviews', 'reviews_per_month', 'calculated_host_listings_count', 'availability_365']]\n",
        "\n",
        "df.head()"
      ],
      "execution_count": 2,
      "outputs": [
        {
          "output_type": "stream",
          "name": "stdout",
          "text": [
            "--2021-09-20 12:06:36--  https://raw.githubusercontent.com/alexeygrigorev/datasets/master/AB_NYC_2019.csv\n",
            "Resolving raw.githubusercontent.com (raw.githubusercontent.com)... 185.199.108.133, 185.199.109.133, 185.199.110.133, ...\n",
            "Connecting to raw.githubusercontent.com (raw.githubusercontent.com)|185.199.108.133|:443... connected.\n",
            "HTTP request sent, awaiting response... 200 OK\n",
            "Length: 7077973 (6.8M) [text/plain]\n",
            "Saving to: ‘AB_NYC_2019.csv’\n",
            "\n",
            "\rAB_NYC_2019.csv     0%[                    ]       0  --.-KB/s               \rAB_NYC_2019.csv   100%[===================>]   6.75M  --.-KB/s    in 0.07s   \n",
            "\n",
            "2021-09-20 12:06:36 (96.1 MB/s) - ‘AB_NYC_2019.csv’ saved [7077973/7077973]\n",
            "\n"
          ]
        },
        {
          "output_type": "execute_result",
          "data": {
            "text/html": [
              "<div>\n",
              "<style scoped>\n",
              "    .dataframe tbody tr th:only-of-type {\n",
              "        vertical-align: middle;\n",
              "    }\n",
              "\n",
              "    .dataframe tbody tr th {\n",
              "        vertical-align: top;\n",
              "    }\n",
              "\n",
              "    .dataframe thead th {\n",
              "        text-align: right;\n",
              "    }\n",
              "</style>\n",
              "<table border=\"1\" class=\"dataframe\">\n",
              "  <thead>\n",
              "    <tr style=\"text-align: right;\">\n",
              "      <th></th>\n",
              "      <th>latitude</th>\n",
              "      <th>longitude</th>\n",
              "      <th>price</th>\n",
              "      <th>minimum_nights</th>\n",
              "      <th>number_of_reviews</th>\n",
              "      <th>reviews_per_month</th>\n",
              "      <th>calculated_host_listings_count</th>\n",
              "      <th>availability_365</th>\n",
              "    </tr>\n",
              "  </thead>\n",
              "  <tbody>\n",
              "    <tr>\n",
              "      <th>0</th>\n",
              "      <td>40.64749</td>\n",
              "      <td>-73.97237</td>\n",
              "      <td>149</td>\n",
              "      <td>1</td>\n",
              "      <td>9</td>\n",
              "      <td>0.21</td>\n",
              "      <td>6</td>\n",
              "      <td>365</td>\n",
              "    </tr>\n",
              "    <tr>\n",
              "      <th>1</th>\n",
              "      <td>40.75362</td>\n",
              "      <td>-73.98377</td>\n",
              "      <td>225</td>\n",
              "      <td>1</td>\n",
              "      <td>45</td>\n",
              "      <td>0.38</td>\n",
              "      <td>2</td>\n",
              "      <td>355</td>\n",
              "    </tr>\n",
              "    <tr>\n",
              "      <th>2</th>\n",
              "      <td>40.80902</td>\n",
              "      <td>-73.94190</td>\n",
              "      <td>150</td>\n",
              "      <td>3</td>\n",
              "      <td>0</td>\n",
              "      <td>NaN</td>\n",
              "      <td>1</td>\n",
              "      <td>365</td>\n",
              "    </tr>\n",
              "    <tr>\n",
              "      <th>3</th>\n",
              "      <td>40.68514</td>\n",
              "      <td>-73.95976</td>\n",
              "      <td>89</td>\n",
              "      <td>1</td>\n",
              "      <td>270</td>\n",
              "      <td>4.64</td>\n",
              "      <td>1</td>\n",
              "      <td>194</td>\n",
              "    </tr>\n",
              "    <tr>\n",
              "      <th>4</th>\n",
              "      <td>40.79851</td>\n",
              "      <td>-73.94399</td>\n",
              "      <td>80</td>\n",
              "      <td>10</td>\n",
              "      <td>9</td>\n",
              "      <td>0.10</td>\n",
              "      <td>1</td>\n",
              "      <td>0</td>\n",
              "    </tr>\n",
              "  </tbody>\n",
              "</table>\n",
              "</div>"
            ],
            "text/plain": [
              "   latitude  longitude  ...  calculated_host_listings_count  availability_365\n",
              "0  40.64749  -73.97237  ...                               6               365\n",
              "1  40.75362  -73.98377  ...                               2               355\n",
              "2  40.80902  -73.94190  ...                               1               365\n",
              "3  40.68514  -73.95976  ...                               1               194\n",
              "4  40.79851  -73.94399  ...                               1                 0\n",
              "\n",
              "[5 rows x 8 columns]"
            ]
          },
          "metadata": {},
          "execution_count": 2
        }
      ]
    },
    {
      "cell_type": "markdown",
      "metadata": {
        "id": "jQ6hjmADgBW2"
      },
      "source": [
        "# 1. Number of missing values"
      ]
    },
    {
      "cell_type": "code",
      "metadata": {
        "colab": {
          "base_uri": "https://localhost:8080/"
        },
        "id": "9j1lxiUwfJXx",
        "outputId": "19d3c4be-65fd-4514-8b87-f9bf26e3bb72"
      },
      "source": [
        "df.info()"
      ],
      "execution_count": 3,
      "outputs": [
        {
          "output_type": "stream",
          "name": "stdout",
          "text": [
            "<class 'pandas.core.frame.DataFrame'>\n",
            "RangeIndex: 48895 entries, 0 to 48894\n",
            "Data columns (total 8 columns):\n",
            " #   Column                          Non-Null Count  Dtype  \n",
            "---  ------                          --------------  -----  \n",
            " 0   latitude                        48895 non-null  float64\n",
            " 1   longitude                       48895 non-null  float64\n",
            " 2   price                           48895 non-null  int64  \n",
            " 3   minimum_nights                  48895 non-null  int64  \n",
            " 4   number_of_reviews               48895 non-null  int64  \n",
            " 5   reviews_per_month               38843 non-null  float64\n",
            " 6   calculated_host_listings_count  48895 non-null  int64  \n",
            " 7   availability_365                48895 non-null  int64  \n",
            "dtypes: float64(3), int64(5)\n",
            "memory usage: 3.0 MB\n"
          ]
        }
      ]
    },
    {
      "cell_type": "code",
      "metadata": {
        "colab": {
          "base_uri": "https://localhost:8080/"
        },
        "id": "xSGE0175feWy",
        "outputId": "6d6cae96-4ae0-49a3-bef0-bcf94cdae6f6"
      },
      "source": [
        "df['reviews_per_month'].isnull().sum()"
      ],
      "execution_count": 4,
      "outputs": [
        {
          "output_type": "execute_result",
          "data": {
            "text/plain": [
              "10052"
            ]
          },
          "metadata": {},
          "execution_count": 4
        }
      ]
    },
    {
      "cell_type": "markdown",
      "metadata": {
        "id": "LJuvvfhQgUJu"
      },
      "source": [
        "# 2. Median for minimum_nights"
      ]
    },
    {
      "cell_type": "code",
      "metadata": {
        "colab": {
          "base_uri": "https://localhost:8080/"
        },
        "id": "a3en2HPQf0xC",
        "outputId": "8bada577-0aff-4153-d271-58e25cc5d4f9"
      },
      "source": [
        "df.minimum_nights.median()"
      ],
      "execution_count": 5,
      "outputs": [
        {
          "output_type": "execute_result",
          "data": {
            "text/plain": [
              "3.0"
            ]
          },
          "metadata": {},
          "execution_count": 5
        }
      ]
    },
    {
      "cell_type": "markdown",
      "metadata": {
        "id": "wYaHPuJohH2M"
      },
      "source": [
        "# 3. Best way to fill NAs"
      ]
    },
    {
      "cell_type": "code",
      "metadata": {
        "colab": {
          "base_uri": "https://localhost:8080/"
        },
        "id": "T8bkrO_tgdIU",
        "outputId": "97c47aa1-020d-4ebd-cef0-f28f9c2ed1a6"
      },
      "source": [
        "n = len(df)\n",
        "\n",
        "idx = np.arange(n)\n",
        "np.random.seed(42)\n",
        "np.random.shuffle(idx)\n",
        "\n",
        "n_val = int(n * 0.2)\n",
        "n_test = int(n * 0.2)\n",
        "n_train = n - n_val - n_test\n",
        "\n",
        "print(idx)\n",
        "print(n_train, n_val, n_test)"
      ],
      "execution_count": 6,
      "outputs": [
        {
          "output_type": "stream",
          "name": "stdout",
          "text": [
            "[  879 44383 15394 ... 38158   860 15795]\n",
            "29337 9779 9779\n"
          ]
        }
      ]
    },
    {
      "cell_type": "code",
      "metadata": {
        "colab": {
          "base_uri": "https://localhost:8080/",
          "height": 224
        },
        "id": "5xI2EDzmkHzS",
        "outputId": "7e089dc9-104c-4280-ffad-2d9b6ef5d67a"
      },
      "source": [
        "df_train = df.iloc[idx[:n_train]].reset_index(drop=True)\n",
        "df_val = df.iloc[idx[n_train:n_train+n_val]].reset_index(drop=True)\n",
        "df_test = df.iloc[idx[n_train+n_val:]].reset_index(drop=True)\n",
        "\n",
        "display(df_train.head())"
      ],
      "execution_count": 7,
      "outputs": [
        {
          "output_type": "display_data",
          "data": {
            "text/html": [
              "<div>\n",
              "<style scoped>\n",
              "    .dataframe tbody tr th:only-of-type {\n",
              "        vertical-align: middle;\n",
              "    }\n",
              "\n",
              "    .dataframe tbody tr th {\n",
              "        vertical-align: top;\n",
              "    }\n",
              "\n",
              "    .dataframe thead th {\n",
              "        text-align: right;\n",
              "    }\n",
              "</style>\n",
              "<table border=\"1\" class=\"dataframe\">\n",
              "  <thead>\n",
              "    <tr style=\"text-align: right;\">\n",
              "      <th></th>\n",
              "      <th>latitude</th>\n",
              "      <th>longitude</th>\n",
              "      <th>price</th>\n",
              "      <th>minimum_nights</th>\n",
              "      <th>number_of_reviews</th>\n",
              "      <th>reviews_per_month</th>\n",
              "      <th>calculated_host_listings_count</th>\n",
              "      <th>availability_365</th>\n",
              "    </tr>\n",
              "  </thead>\n",
              "  <tbody>\n",
              "    <tr>\n",
              "      <th>0</th>\n",
              "      <td>40.64354</td>\n",
              "      <td>-73.97777</td>\n",
              "      <td>89</td>\n",
              "      <td>3</td>\n",
              "      <td>62</td>\n",
              "      <td>0.71</td>\n",
              "      <td>1</td>\n",
              "      <td>189</td>\n",
              "    </tr>\n",
              "    <tr>\n",
              "      <th>1</th>\n",
              "      <td>40.70666</td>\n",
              "      <td>-73.90779</td>\n",
              "      <td>30</td>\n",
              "      <td>21</td>\n",
              "      <td>0</td>\n",
              "      <td>NaN</td>\n",
              "      <td>1</td>\n",
              "      <td>73</td>\n",
              "    </tr>\n",
              "    <tr>\n",
              "      <th>2</th>\n",
              "      <td>40.76116</td>\n",
              "      <td>-73.99016</td>\n",
              "      <td>120</td>\n",
              "      <td>2</td>\n",
              "      <td>17</td>\n",
              "      <td>0.43</td>\n",
              "      <td>1</td>\n",
              "      <td>0</td>\n",
              "    </tr>\n",
              "    <tr>\n",
              "      <th>3</th>\n",
              "      <td>40.70763</td>\n",
              "      <td>-74.01050</td>\n",
              "      <td>470</td>\n",
              "      <td>2</td>\n",
              "      <td>5</td>\n",
              "      <td>1.88</td>\n",
              "      <td>327</td>\n",
              "      <td>272</td>\n",
              "    </tr>\n",
              "    <tr>\n",
              "      <th>4</th>\n",
              "      <td>40.79658</td>\n",
              "      <td>-73.93287</td>\n",
              "      <td>199</td>\n",
              "      <td>2</td>\n",
              "      <td>30</td>\n",
              "      <td>0.80</td>\n",
              "      <td>1</td>\n",
              "      <td>30</td>\n",
              "    </tr>\n",
              "  </tbody>\n",
              "</table>\n",
              "</div>"
            ],
            "text/plain": [
              "   latitude  longitude  ...  calculated_host_listings_count  availability_365\n",
              "0  40.64354  -73.97777  ...                               1               189\n",
              "1  40.70666  -73.90779  ...                               1                73\n",
              "2  40.76116  -73.99016  ...                               1                 0\n",
              "3  40.70763  -74.01050  ...                             327               272\n",
              "4  40.79658  -73.93287  ...                               1                30\n",
              "\n",
              "[5 rows x 8 columns]"
            ]
          },
          "metadata": {}
        }
      ]
    },
    {
      "cell_type": "code",
      "metadata": {
        "colab": {
          "base_uri": "https://localhost:8080/"
        },
        "id": "oHZ6ig9unMcf",
        "outputId": "d0450c6e-3627-42bd-b6f3-56a74e0b9f24"
      },
      "source": [
        "X_train_fill_zero = df_train.drop('price', 1).fillna(0).values\n",
        "X_train_fill_mean = df_train.drop('price', 1).fillna(df_train.mean()).values\n",
        "\n",
        "X_val_fill_zero = df_val.drop('price', 1).fillna(0).values\n",
        "X_val_fill_mean = df_val.drop('price', 1).fillna(df_val.mean()).values\n",
        "\n",
        "y_train = np.log1p(df_train['price'].values)\n",
        "y_val = np.log1p(df_val['price'].values)\n",
        "\n",
        "print(X_train_fill_zero[:5])\n",
        "print(y_train[:5])"
      ],
      "execution_count": 8,
      "outputs": [
        {
          "output_type": "stream",
          "name": "stdout",
          "text": [
            "[[ 40.64354 -73.97777   3.       62.        0.71      1.      189.     ]\n",
            " [ 40.70666 -73.90779  21.        0.        0.        1.       73.     ]\n",
            " [ 40.76116 -73.99016   2.       17.        0.43      1.        0.     ]\n",
            " [ 40.70763 -74.0105    2.        5.        1.88    327.      272.     ]\n",
            " [ 40.79658 -73.93287   2.       30.        0.8       1.       30.     ]]\n",
            "[4.49980967 3.4339872  4.79579055 6.15485809 5.29831737]\n"
          ]
        }
      ]
    },
    {
      "cell_type": "code",
      "metadata": {
        "id": "ZHKSR4mJrAH9"
      },
      "source": [
        "def train_linear_regression(X, y):\n",
        "    ones = np.ones(X.shape[0])\n",
        "    X = np.column_stack([ones, X])\n",
        "\n",
        "    XTX = X.T.dot(X)\n",
        "    XTX_inv = np.linalg.inv(XTX)\n",
        "    w_full = XTX_inv.dot(X.T).dot(y)\n",
        "    \n",
        "    return w_full[0], w_full[1:]\n",
        "\n",
        "def rmse(y, y_pred):\n",
        "    se = (y - y_pred) ** 2\n",
        "    mse = se.mean()\n",
        "    return np.sqrt(mse)"
      ],
      "execution_count": 9,
      "outputs": []
    },
    {
      "cell_type": "code",
      "metadata": {
        "colab": {
          "base_uri": "https://localhost:8080/"
        },
        "id": "O8ktOxOMrFIG",
        "outputId": "b15062e4-3a70-4951-b4d9-cae8c47200f6"
      },
      "source": [
        "# RMSE Training set with fill value = 0\n",
        "w0_zero, w_zero = train_linear_regression(X_train_fill_zero, y_train)\n",
        "\n",
        "y_pred_zero = w0_zero + X_val_fill_zero.dot(w_zero)\n",
        "\n",
        "print(round(rmse(y_val, y_pred_zero), 2))"
      ],
      "execution_count": 10,
      "outputs": [
        {
          "output_type": "stream",
          "name": "stdout",
          "text": [
            "0.64\n"
          ]
        }
      ]
    },
    {
      "cell_type": "code",
      "metadata": {
        "colab": {
          "base_uri": "https://localhost:8080/"
        },
        "id": "t405NjqwycSC",
        "outputId": "6d7087c1-f2a1-4568-852a-4f9e262a4f79"
      },
      "source": [
        "# RMSE Training set with fill value = mean\n",
        "w0_mean, w_mean = train_linear_regression(X_train_fill_mean, y_train)\n",
        "\n",
        "y_pred_mean = w0_mean + X_val_fill_mean.dot(w_mean)\n",
        "\n",
        "print(round(rmse(y_val, y_pred_mean), 2))"
      ],
      "execution_count": 11,
      "outputs": [
        {
          "output_type": "stream",
          "name": "stdout",
          "text": [
            "0.64\n"
          ]
        }
      ]
    },
    {
      "cell_type": "markdown",
      "metadata": {
        "id": "om9_gsSl58TT"
      },
      "source": [
        "# 4. Best regularization parameter r"
      ]
    },
    {
      "cell_type": "code",
      "metadata": {
        "id": "skeiJYA43e50"
      },
      "source": [
        "X_train = df_train.drop('price', 1).fillna(0).values\n",
        "X_val = df_val.drop('price', 1).fillna(0).values\n",
        "\n",
        "rs = [0, 0.000001, 0.0001, 0.001, 0.01, 0.1, 1, 5, 10]"
      ],
      "execution_count": 12,
      "outputs": []
    },
    {
      "cell_type": "code",
      "metadata": {
        "id": "N9qYNPoj-S8Q"
      },
      "source": [
        "def train_linear_regression_reg(X, y, r=0.001):\n",
        "    ones = np.ones(X.shape[0])\n",
        "    X = np.column_stack([ones, X])\n",
        "\n",
        "    XTX = X.T.dot(X)\n",
        "    XTX = XTX + r * np.eye(XTX.shape[0])\n",
        "\n",
        "    XTX_inv = np.linalg.inv(XTX)\n",
        "    w_full = XTX_inv.dot(X.T).dot(y)\n",
        "    \n",
        "    return w_full[0], w_full[1:]"
      ],
      "execution_count": 13,
      "outputs": []
    },
    {
      "cell_type": "code",
      "metadata": {
        "colab": {
          "base_uri": "https://localhost:8080/"
        },
        "id": "CnRCGBNZ-Us7",
        "outputId": "025d822a-5beb-4d48-e037-ac0785783a91"
      },
      "source": [
        "for r in rs:\n",
        "    w0, w = train_linear_regression_reg(X_train, y_train, r=r)\n",
        "\n",
        "    y_pred = w0 + X_val.dot(w)\n",
        "    score = round(rmse(y_val, y_pred), 2)\n",
        "    \n",
        "    print(r, w0, score)"
      ],
      "execution_count": 14,
      "outputs": [
        {
          "output_type": "stream",
          "name": "stdout",
          "text": [
            "0 -419.91265973795873 0.64\n",
            "1e-06 -419.8627166795901 0.64\n",
            "0.0001 -414.97649362219624 0.64\n",
            "0.001 -375.2736534813748 0.64\n",
            "0.01 -191.7838407751772 0.66\n",
            "0.1 -32.562560558416244 0.68\n",
            "1 -3.499216836898674 0.68\n",
            "5 -0.7033623203748884 0.68\n",
            "10 -0.35127676056538004 0.68\n"
          ]
        }
      ]
    },
    {
      "cell_type": "markdown",
      "metadata": {
        "id": "DiPaOhuy_uMf"
      },
      "source": [
        "# 5. STD of RMSE scores for different seeds"
      ]
    },
    {
      "cell_type": "code",
      "metadata": {
        "colab": {
          "base_uri": "https://localhost:8080/"
        },
        "id": "uAZ8EubK_ydu",
        "outputId": "0576cf6f-0297-489f-ecd1-afc6704288fd"
      },
      "source": [
        "seeds = [0, 1, 2, 3, 4, 5, 6, 7, 8, 9]\n",
        "\n",
        "rmse_scores = np.zeros(len(seeds))\n",
        "\n",
        "for seed in seeds:\n",
        "  idx = np.arange(n)\n",
        "  np.random.seed(seed)\n",
        "  np.random.shuffle(idx)\n",
        "\n",
        "  df_train = df.iloc[idx[:n_train]].reset_index(drop=True)\n",
        "  df_val = df.iloc[idx[n_train:n_train+n_val]].reset_index(drop=True)\n",
        "  df_test = df.iloc[idx[n_train+n_val:]].reset_index(drop=True)\n",
        "\n",
        "  X_train = df_train.drop('price', 1).fillna(0).values\n",
        "  X_val = df_val.drop('price', 1).fillna(0).values\n",
        "  y_train = np.log1p(df_train['price'].values)\n",
        "  y_val = np.log1p(df_val['price'].values)\n",
        "\n",
        "  w0, w = train_linear_regression_reg(X_train, y_train, 0)\n",
        "\n",
        "  y_pred = w0 + X_val.dot(w)\n",
        "\n",
        "  rmse_scores[seed] = rmse(y_val, y_pred)\n",
        "\n",
        "print(rmse_scores)\n",
        "print(round(np.std(rmse_scores), 3))"
      ],
      "execution_count": 15,
      "outputs": [
        {
          "output_type": "stream",
          "name": "stdout",
          "text": [
            "[0.654978   0.64625237 0.64765582 0.63751451 0.64458091 0.630581\n",
            " 0.62978519 0.65061843 0.64897804 0.64375652]\n",
            "0.008\n"
          ]
        }
      ]
    },
    {
      "cell_type": "markdown",
      "metadata": {
        "id": "QfyQnykQEEqm"
      },
      "source": [
        "# 6. RMSE on test"
      ]
    },
    {
      "cell_type": "code",
      "metadata": {
        "colab": {
          "base_uri": "https://localhost:8080/"
        },
        "id": "KK3Go7zuEJHS",
        "outputId": "7ffc0f20-a7c5-49f7-e888-8414c963de79"
      },
      "source": [
        "idx = np.arange(n)\n",
        "np.random.seed(9)\n",
        "np.random.shuffle(idx)\n",
        "\n",
        "df_train = df.iloc[idx[:n_train]]\n",
        "df_val = df.iloc[idx[n_train:n_train+n_val]]\n",
        "\n",
        "df_full_train = pd.concat([df_train, df_val]).reset_index(drop=True)\n",
        "df_test = df.iloc[idx[n_train+n_val:]].reset_index(drop=True)\n",
        "\n",
        "X_full_train = df_full_train.drop('price', 1).fillna(0).values\n",
        "X_test = df_test.drop('price', 1).fillna(0).values\n",
        "y_full_train = np.log1p(df_full_train['price'].values)\n",
        "y_test = np.log1p(df_test['price'].values)\n",
        "\n",
        "w0, w = train_linear_regression_reg(X_full_train, y_full_train, 0.001)\n",
        "\n",
        "y_pred = w0 + X_test.dot(w)\n",
        "score = round(rmse(y_test, y_pred), 2)\n",
        "\n",
        "print(score)"
      ],
      "execution_count": 16,
      "outputs": [
        {
          "output_type": "stream",
          "name": "stdout",
          "text": [
            "0.65\n"
          ]
        }
      ]
    }
  ]
}