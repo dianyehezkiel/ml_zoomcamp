{
  "cells": [
    {
      "cell_type": "code",
      "execution_count": 1,
      "metadata": {
        "id": "lsi2HShNiMqX"
      },
      "outputs": [],
      "source": [
        "import pandas as pd\n",
        "import numpy as np\n",
        "\n",
        "import matplotlib.pyplot as plt\n",
        "\n",
        "from sklearn.model_selection import train_test_split\n",
        "from sklearn.feature_extraction import DictVectorizer\n",
        "from sklearn.tree import DecisionTreeRegressor\n",
        "from sklearn.ensemble import RandomForestRegressor\n",
        "from sklearn.metrics import mean_squared_error\n",
        "from sklearn.tree import export_text\n",
        "import xgboost as xgb\n"
      ]
    },
    {
      "cell_type": "code",
      "execution_count": 2,
      "metadata": {
        "colab": {
          "base_uri": "https://localhost:8080/"
        },
        "id": "9zVnJ2X_iMqZ",
        "outputId": "153bfea0-8b75-4f9b-b1a1-b4f05acc51a9"
      },
      "outputs": [
        {
          "name": "stdout",
          "output_type": "stream",
          "text": [
            "--2021-10-18 18:39:52--  https://raw.githubusercontent.com/alexeygrigorev/datasets/master/AB_NYC_2019.csv\n",
            "Resolving raw.githubusercontent.com (raw.githubusercontent.com)... 185.199.110.133, 185.199.111.133, 185.199.108.133, ...\n",
            "Connecting to raw.githubusercontent.com (raw.githubusercontent.com)|185.199.110.133|:443... connected.\n",
            "HTTP request sent, awaiting response... 200 OK\n",
            "Length: 7077973 (6,8M) [text/plain]\n",
            "Saving to: ‘AB_NYC_2019.csv’\n",
            "\n",
            "AB_NYC_2019.csv     100%[===================>]   6,75M  1,18MB/s    in 5,5s    \n",
            "\n",
            "2021-10-18 18:39:59 (1,23 MB/s) - ‘AB_NYC_2019.csv’ saved [7077973/7077973]\n",
            "\n"
          ]
        }
      ],
      "source": [
        "!wget https://raw.githubusercontent.com/alexeygrigorev/datasets/master/AB_NYC_2019.csv -O AB_NYC_2019.csv"
      ]
    },
    {
      "cell_type": "code",
      "execution_count": 3,
      "metadata": {
        "id": "4xrdtmhHiMqb"
      },
      "outputs": [],
      "source": [
        "columns = [\n",
        "    'neighbourhood_group', 'room_type', 'latitude', 'longitude',\n",
        "    'minimum_nights', 'number_of_reviews','reviews_per_month',\n",
        "    'calculated_host_listings_count', 'availability_365',\n",
        "    'price'\n",
        "]\n",
        "\n",
        "df = pd.read_csv('AB_NYC_2019.csv', usecols=columns)\n",
        "df.reviews_per_month = df.reviews_per_month.fillna(0)"
      ]
    },
    {
      "cell_type": "markdown",
      "metadata": {
        "id": "9IHpHkbsiMqc"
      },
      "source": [
        "* Apply the log tranform to `price`\n",
        "* Do train/validation/test split with 60%/20%/20% distribution. \n",
        "* Use the `train_test_split` function and set the `random_state` parameter to 1"
      ]
    },
    {
      "cell_type": "code",
      "execution_count": 4,
      "metadata": {
        "colab": {
          "base_uri": "https://localhost:8080/",
          "height": 309
        },
        "id": "R1DHiU3TiMqd",
        "outputId": "e8baf108-da4d-4748-cdaa-27a53c7f8131"
      },
      "outputs": [
        {
          "data": {
            "text/html": [
              "<div>\n",
              "<style scoped>\n",
              "    .dataframe tbody tr th:only-of-type {\n",
              "        vertical-align: middle;\n",
              "    }\n",
              "\n",
              "    .dataframe tbody tr th {\n",
              "        vertical-align: top;\n",
              "    }\n",
              "\n",
              "    .dataframe thead th {\n",
              "        text-align: right;\n",
              "    }\n",
              "</style>\n",
              "<table border=\"1\" class=\"dataframe\">\n",
              "  <thead>\n",
              "    <tr style=\"text-align: right;\">\n",
              "      <th></th>\n",
              "      <th>neighbourhood_group</th>\n",
              "      <th>latitude</th>\n",
              "      <th>longitude</th>\n",
              "      <th>room_type</th>\n",
              "      <th>minimum_nights</th>\n",
              "      <th>number_of_reviews</th>\n",
              "      <th>reviews_per_month</th>\n",
              "      <th>calculated_host_listings_count</th>\n",
              "      <th>availability_365</th>\n",
              "      <th>price_log</th>\n",
              "    </tr>\n",
              "  </thead>\n",
              "  <tbody>\n",
              "    <tr>\n",
              "      <th>0</th>\n",
              "      <td>Brooklyn</td>\n",
              "      <td>40.64749</td>\n",
              "      <td>-73.97237</td>\n",
              "      <td>Private room</td>\n",
              "      <td>1</td>\n",
              "      <td>9</td>\n",
              "      <td>0.21</td>\n",
              "      <td>6</td>\n",
              "      <td>365</td>\n",
              "      <td>5.010635</td>\n",
              "    </tr>\n",
              "    <tr>\n",
              "      <th>1</th>\n",
              "      <td>Manhattan</td>\n",
              "      <td>40.75362</td>\n",
              "      <td>-73.98377</td>\n",
              "      <td>Entire home/apt</td>\n",
              "      <td>1</td>\n",
              "      <td>45</td>\n",
              "      <td>0.38</td>\n",
              "      <td>2</td>\n",
              "      <td>355</td>\n",
              "      <td>5.420535</td>\n",
              "    </tr>\n",
              "    <tr>\n",
              "      <th>2</th>\n",
              "      <td>Manhattan</td>\n",
              "      <td>40.80902</td>\n",
              "      <td>-73.94190</td>\n",
              "      <td>Private room</td>\n",
              "      <td>3</td>\n",
              "      <td>0</td>\n",
              "      <td>0.00</td>\n",
              "      <td>1</td>\n",
              "      <td>365</td>\n",
              "      <td>5.017280</td>\n",
              "    </tr>\n",
              "    <tr>\n",
              "      <th>3</th>\n",
              "      <td>Brooklyn</td>\n",
              "      <td>40.68514</td>\n",
              "      <td>-73.95976</td>\n",
              "      <td>Entire home/apt</td>\n",
              "      <td>1</td>\n",
              "      <td>270</td>\n",
              "      <td>4.64</td>\n",
              "      <td>1</td>\n",
              "      <td>194</td>\n",
              "      <td>4.499810</td>\n",
              "    </tr>\n",
              "    <tr>\n",
              "      <th>4</th>\n",
              "      <td>Manhattan</td>\n",
              "      <td>40.79851</td>\n",
              "      <td>-73.94399</td>\n",
              "      <td>Entire home/apt</td>\n",
              "      <td>10</td>\n",
              "      <td>9</td>\n",
              "      <td>0.10</td>\n",
              "      <td>1</td>\n",
              "      <td>0</td>\n",
              "      <td>4.394449</td>\n",
              "    </tr>\n",
              "  </tbody>\n",
              "</table>\n",
              "</div>"
            ],
            "text/plain": [
              "  neighbourhood_group  latitude  longitude        room_type  minimum_nights  \\\n",
              "0            Brooklyn  40.64749  -73.97237     Private room               1   \n",
              "1           Manhattan  40.75362  -73.98377  Entire home/apt               1   \n",
              "2           Manhattan  40.80902  -73.94190     Private room               3   \n",
              "3            Brooklyn  40.68514  -73.95976  Entire home/apt               1   \n",
              "4           Manhattan  40.79851  -73.94399  Entire home/apt              10   \n",
              "\n",
              "   number_of_reviews  reviews_per_month  calculated_host_listings_count  \\\n",
              "0                  9               0.21                               6   \n",
              "1                 45               0.38                               2   \n",
              "2                  0               0.00                               1   \n",
              "3                270               4.64                               1   \n",
              "4                  9               0.10                               1   \n",
              "\n",
              "   availability_365  price_log  \n",
              "0               365   5.010635  \n",
              "1               355   5.420535  \n",
              "2               365   5.017280  \n",
              "3               194   4.499810  \n",
              "4                 0   4.394449  "
            ]
          },
          "execution_count": 4,
          "metadata": {},
          "output_type": "execute_result"
        }
      ],
      "source": [
        "df['price_log'] = np.log1p(df['price'])\n",
        "del df['price']\n",
        "df.head()"
      ]
    },
    {
      "cell_type": "code",
      "execution_count": 5,
      "metadata": {
        "id": "uDNCpYCjiMqe"
      },
      "outputs": [],
      "source": [
        "df_full_train, df_test = train_test_split(df, test_size=0.2, random_state=1)\n",
        "df_train, df_val = train_test_split(df_full_train, test_size=0.25, random_state=1)"
      ]
    },
    {
      "cell_type": "code",
      "execution_count": 6,
      "metadata": {
        "id": "0HXbs4XCiMqf"
      },
      "outputs": [],
      "source": [
        "y_train = df_train['price_log'].values\n",
        "y_val = df_val['price_log'].values\n",
        "y_test = df_test['price_log'].values\n",
        "\n",
        "del df_train['price_log']\n",
        "del df_val['price_log']\n",
        "del df_test['price_log']"
      ]
    },
    {
      "cell_type": "markdown",
      "metadata": {
        "id": "vB2o1dy9iMqh"
      },
      "source": [
        "Now, use `DictVectorizer` to turn train and validation into matrices:"
      ]
    },
    {
      "cell_type": "code",
      "execution_count": 7,
      "metadata": {
        "id": "wH4MCp_ViMqi"
      },
      "outputs": [],
      "source": [
        "train_dicts = df_train.fillna(0).to_dict(orient='records')\n",
        "dv = DictVectorizer(sparse=False)\n",
        "X_train = dv.fit_transform(train_dicts)"
      ]
    },
    {
      "cell_type": "markdown",
      "metadata": {
        "id": "IQYTcdb7iMqj"
      },
      "source": [
        "## Question 1\n",
        "\n",
        "Let's train a decision tree regressor to predict the price variable. \n",
        "\n",
        "* Train a model with `max_depth=1`"
      ]
    },
    {
      "cell_type": "code",
      "execution_count": 8,
      "metadata": {
        "colab": {
          "base_uri": "https://localhost:8080/"
        },
        "id": "gItENpmqiMqk",
        "outputId": "37ddca2d-d61a-4636-8819-445c7706be54"
      },
      "outputs": [
        {
          "data": {
            "text/plain": [
              "DecisionTreeRegressor(max_depth=1)"
            ]
          },
          "execution_count": 8,
          "metadata": {},
          "output_type": "execute_result"
        }
      ],
      "source": [
        "dtr = DecisionTreeRegressor(max_depth=1)\n",
        "dtr.fit(X_train, y_train)"
      ]
    },
    {
      "cell_type": "code",
      "execution_count": 9,
      "metadata": {
        "colab": {
          "base_uri": "https://localhost:8080/"
        },
        "id": "GaH7V-3HiMql",
        "outputId": "5e1a7555-d3d8-4343-c8e0-45e39793a250"
      },
      "outputs": [
        {
          "name": "stdout",
          "output_type": "stream",
          "text": [
            "|--- room_type=Entire home/apt <= 0.50\n",
            "|   |--- value: [4.29]\n",
            "|--- room_type=Entire home/apt >  0.50\n",
            "|   |--- value: [5.15]\n",
            "\n"
          ]
        }
      ],
      "source": [
        "print(export_text(dtr, feature_names=dv.get_feature_names()))"
      ]
    },
    {
      "cell_type": "markdown",
      "metadata": {
        "id": "7oESGSuLiMqm"
      },
      "source": [
        "Which feature is used for splitting the data?\n",
        "\n",
        "* **`room_type`**\n",
        "* `neighbourhood_group`\n",
        "* `number_of_reviews`\n",
        "* `reviews_per_month`"
      ]
    },
    {
      "cell_type": "markdown",
      "metadata": {
        "id": "HdvAaY5qiMqn"
      },
      "source": [
        "## Question 2\n",
        "\n",
        "Train a random forest model with these parameters:\n",
        "\n",
        "* `n_estimators=10`\n",
        "* `random_state=1`\n",
        "* `n_jobs=-1`  (optional - to make training faster)"
      ]
    },
    {
      "cell_type": "code",
      "execution_count": 10,
      "metadata": {
        "colab": {
          "base_uri": "https://localhost:8080/"
        },
        "id": "_4M7YktjiMqn",
        "outputId": "31738510-d492-4a95-bcdd-28e15eaf065d"
      },
      "outputs": [
        {
          "name": "stdout",
          "output_type": "stream",
          "text": [
            "0.46\n"
          ]
        }
      ],
      "source": [
        "val_dicts = df_val.fillna(0).to_dict(orient='records')\n",
        "X_val = dv.transform(val_dicts)\n",
        "\n",
        "rfr = RandomForestRegressor(n_estimators=10, random_state=1, n_jobs=-1)\n",
        "rfr.fit(X_train, y_train)\n",
        "\n",
        "y_pred = rfr.predict(X_val)\n",
        "\n",
        "rmse = mean_squared_error(y_val, y_pred, squared=False)\n",
        "\n",
        "print(round(rmse, 3))"
      ]
    },
    {
      "cell_type": "markdown",
      "metadata": {
        "id": "uhVV357PiMqp"
      },
      "source": [
        "What's the RMSE of this model on validation?\n",
        "\n",
        "* 0.059\n",
        "* 0.259\n",
        "* **0.459**\n",
        "* 0.659"
      ]
    },
    {
      "cell_type": "markdown",
      "metadata": {
        "id": "cOi0zUPPiMqq"
      },
      "source": [
        "## Question 3\n",
        "\n",
        "Now let's experiment with the `n_estimators` parameter\n",
        "\n",
        "* Try different values of this parameter from 10 to 200 with step 10\n",
        "* Set `random_state` to `1`\n",
        "* Evaluate the model on the validation dataset"
      ]
    },
    {
      "cell_type": "code",
      "execution_count": 11,
      "metadata": {
        "colab": {
          "base_uri": "https://localhost:8080/"
        },
        "id": "DxjH1VR4iMqq",
        "outputId": "a3acb45c-8983-47ca-a523-a64d06db0e9e"
      },
      "outputs": [],
      "source": [
        "list_rmse = []\n",
        "\n",
        "for n in range(10, 201, 10):\n",
        "  rfr = RandomForestRegressor(n_estimators=n, random_state=1, n_jobs=-1)\n",
        "  rfr.fit(X_train, y_train)\n",
        "\n",
        "  y_pred = rfr.predict(X_val)\n",
        "  \n",
        "  rmse = mean_squared_error(y_val, y_pred, squared=False)\n",
        "  list_rmse.append((n, rmse))"
      ]
    },
    {
      "cell_type": "code",
      "execution_count": 12,
      "metadata": {},
      "outputs": [],
      "source": [
        "def addlabels(X,y):\n",
        "  for i, x in enumerate(X):\n",
        "    plt.text(x,y[i],round(y[i], 3), ha='center')"
      ]
    },
    {
      "cell_type": "code",
      "execution_count": 13,
      "metadata": {},
      "outputs": [
        {
          "data": {
            "image/png": "[encoded data removed]",
            "text/plain": [
              "<Figure size 864x648 with 1 Axes>"
            ]
          },
          "metadata": {
            "needs_background": "light"
          },
          "output_type": "display_data"
        }
      ],
      "source": [
        "columns = ['n_estimators', 'rmse']\n",
        "df_rmse = pd.DataFrame(list_rmse, columns=columns)\n",
        "\n",
        "plt.figure(figsize=(12, 9))\n",
        "plt.plot(df_rmse.n_estimators, df_rmse.rmse)\n",
        "plt.grid(b=True, axis='x')\n",
        "addlabels(range(10, 201, 10), df_rmse.rmse)\n",
        "plt.xticks(ticks = range(10, 201, 10), label = range(10, 201, 10))\n",
        "plt.show()"
      ]
    },
    {
      "cell_type": "markdown",
      "metadata": {
        "id": "D23hwTL_iMqs"
      },
      "source": [
        "After which value of `n_estimators` does RMSE stop improving?\n",
        "\n",
        "- 10\n",
        "- 50\n",
        "- 70\n",
        "- **120**"
      ]
    },
    {
      "cell_type": "markdown",
      "metadata": {
        "id": "Nak_-m7fiMqs"
      },
      "source": [
        "## Question 4\n",
        "\n",
        "Let's select the best `max_depth`:\n",
        "\n",
        "* Try different values of `max_depth`: `[10, 15, 20, 25]`\n",
        "* For each of these values, try different values of `n_estimators` from 10 till 200 (with step 10)\n",
        "* Fix the random seed: `random_state=1`"
      ]
    },
    {
      "cell_type": "code",
      "execution_count": 14,
      "metadata": {
        "colab": {
          "base_uri": "https://localhost:8080/"
        },
        "id": "q6uwYxBciMqt",
        "outputId": "fb662d16-d6d5-4c31-a3e9-450c751ca59f"
      },
      "outputs": [
        {
          "name": "stdout",
          "output_type": "stream",
          "text": [
            "average RMSE for max_depth = 10 is 0.440619\n",
            "\n",
            "average RMSE for max_depth = 15 is 0.437732\n",
            "\n",
            "average RMSE for max_depth = 20 is 0.440616\n",
            "\n",
            "average RMSE for max_depth = 25 is 0.441806\n",
            "\n"
          ]
        }
      ],
      "source": [
        "for m in [10, 15, 20, 25]:\n",
        "  score = []\n",
        "  for n in range(10, 201, 10):\n",
        "    rfr = RandomForestRegressor(n_estimators=n, max_depth=m, random_state=1, n_jobs=-1)\n",
        "    rfr.fit(X_train, y_train)\n",
        "\n",
        "    y_pred = rfr.predict(X_val)\n",
        "\n",
        "    rmse = mean_squared_error(y_val, y_pred, squared=False)\n",
        "    score.append(rmse)\n",
        "    \n",
        "    list_rmse.append((m, n, rmse))\n",
        "  \n",
        "  print(\"average RMSE for max_depth = {:d} is {:f}\".format(m, (sum(score)/len(score))))\n",
        "  print(\"\")"
      ]
    },
    {
      "cell_type": "markdown",
      "metadata": {
        "id": "bGgvncy1iMqt"
      },
      "source": [
        "What's the best `max_depth`:\n",
        "\n",
        "* 10\n",
        "* **15**\n",
        "* 20\n",
        "* 25\n",
        "\n",
        "Bonus question (not graded):\n",
        "\n",
        "Will the answer be different if we change the seed for the model?"
      ]
    },
    {
      "cell_type": "code",
      "execution_count": 24,
      "metadata": {},
      "outputs": [
        {
          "name": "stdout",
          "output_type": "stream",
          "text": [
            "average RMSE for random_state = 25 is 0.437732\n",
            "\n",
            "average RMSE for random_state = 25 is 0.437184\n",
            "\n",
            "average RMSE for random_state = 25 is 0.437748\n",
            "\n"
          ]
        }
      ],
      "source": [
        "for r in [1, 10, 100]:\n",
        "  score = []\n",
        "  for n in range(10, 201, 10):\n",
        "    rfr = RandomForestRegressor(n_estimators=n, max_depth=15, random_state=r, n_jobs=-1)\n",
        "    rfr.fit(X_train, y_train)\n",
        "\n",
        "    y_pred = rfr.predict(X_val)\n",
        "\n",
        "    rmse = mean_squared_error(y_val, y_pred, squared=False)\n",
        "    score.append(rmse)\n",
        "    \n",
        "    list_rmse.append((m, n, rmse))\n",
        "  \n",
        "  print(\"average RMSE for random_state = {:d} is {:f}\".format(m, (sum(score)/len(score))))\n",
        "  print(\"\")"
      ]
    },
    {
      "cell_type": "markdown",
      "metadata": {
        "id": "M9UaZKs_iMqu"
      },
      "source": [
        "## Question 5\n",
        "\n",
        "We can extract feature importance information from tree-based models. \n",
        "\n",
        "At each step of the decision tree learning algorith, it finds the best split. \n",
        "When doint it, we can calculate \"gain\" - the reduction in impurity before and after the split. \n",
        "This gain is quite useful in understanding what are the imporatant features \n",
        "for tree-based models.\n",
        "\n",
        "In Scikit-Learn, tree-based models contain this information in the `feature_importances_` field. \n",
        "\n",
        "For this homework question, we'll find the most important feature:\n",
        "\n",
        "* Train the model with these parametes:\n",
        "    * `n_estimators=10`,\n",
        "    * `max_depth=20`,\n",
        "    * `random_state=1`,\n",
        "    * `n_jobs=-1` (optional)\n",
        "* Get the feature importance information from this model"
      ]
    },
    {
      "cell_type": "code",
      "execution_count": 15,
      "metadata": {
        "colab": {
          "base_uri": "https://localhost:8080/"
        },
        "id": "iGqnDEqTiMqu",
        "outputId": "9db8c64a-2550-494c-9639-4abc23339d73"
      },
      "outputs": [],
      "source": [
        "rfr = RandomForestRegressor(n_estimators=10, max_depth=20, random_state=1, n_jobs=-1)\n",
        "rfr.fit(X_train, y_train)\n",
        "\n",
        "feature_importances = []\n",
        "for i in range(15):\n",
        "  feature_importances.append((dv.get_feature_names()[i], rfr.feature_importances_[i]))\n",
        "\n",
        "df_fi = pd.DataFrame(feature_importances, columns=[\"feature_name\", \"feature_importances\"])"
      ]
    },
    {
      "cell_type": "code",
      "execution_count": 16,
      "metadata": {},
      "outputs": [
        {
          "data": {
            "image/png": "[encoded data removed]",
            "text/plain": [
              "<Figure size 864x648 with 1 Axes>"
            ]
          },
          "metadata": {
            "needs_background": "light"
          },
          "output_type": "display_data"
        }
      ],
      "source": [
        "plt.figure(figsize=(12, 9))\n",
        "plt.bar(df_fi.feature_name, df_fi.feature_importances)\n",
        "plt.xticks(rotation=270)\n",
        "addlabels(range(15), df_fi.feature_importances)\n",
        "plt.show()"
      ]
    },
    {
      "cell_type": "markdown",
      "metadata": {
        "id": "kU8szq5tiMqv"
      },
      "source": [
        "What's the most important feature? \n",
        "\n",
        "* `neighbourhood_group=Manhattan`\n",
        "* **`room_type=Entire home/apt`**\t\n",
        "* `longitude`\n",
        "* `latitude`"
      ]
    },
    {
      "cell_type": "markdown",
      "metadata": {
        "id": "c0PUzSZxiMqv"
      },
      "source": [
        "## Question 6"
      ]
    },
    {
      "cell_type": "markdown",
      "metadata": {
        "id": "9pL1gFaJiMqv"
      },
      "source": [
        "Now let's train an XGBoost model! For this question, we'll tune the `eta` parameter\n",
        "\n",
        "* Install XGBoost\n",
        "* Create DMatrix for train and validation\n",
        "* Create a watchlist\n",
        "* Train a model with these parameters for 100 rounds:\n",
        "\n",
        "```\n",
        "xgb_params = {\n",
        "    'eta': 0.3, \n",
        "    'max_depth': 6,\n",
        "    'min_child_weight': 1,\n",
        "    \n",
        "    'objective': 'reg:squarederror',\n",
        "    'nthread': 8,\n",
        "    \n",
        "    'seed': 1,\n",
        "    'verbosity': 1,\n",
        "}\n",
        "```"
      ]
    },
    {
      "cell_type": "code",
      "execution_count": 17,
      "metadata": {
        "id": "nt-mOzOliMqw"
      },
      "outputs": [],
      "source": [
        "features = dv.get_feature_names()\n",
        "dtrain = xgb.DMatrix(X_train, label=y_train, feature_names=features)\n",
        "dval = xgb.DMatrix(X_val, label=y_val, feature_names=features)\n",
        "watchlist = [(dtrain, 'train'), (dval, 'val')]"
      ]
    },
    {
      "cell_type": "code",
      "execution_count": 18,
      "metadata": {
        "id": "Y_pPqsE1zqsz"
      },
      "outputs": [],
      "source": [
        "%%capture output\n",
        "xgb_params = {\n",
        "    'eta': 0.3, \n",
        "    'max_depth': 6,\n",
        "    'min_child_weight': 1,\n",
        "\n",
        "    'objective': 'reg:squarederror',\n",
        "    'nthread': 8,\n",
        "\n",
        "    'seed': 1,\n",
        "    'verbosity': 1,\n",
        "}\n",
        "\n",
        "model = xgb.train(xgb_params, dtrain, num_boost_round=100, evals=watchlist)\n",
        "\n",
        "y_pred = model.predict(dval)\n",
        "rmse = mean_squared_error(y_val, y_pred, squared=False)"
      ]
    },
    {
      "cell_type": "code",
      "execution_count": 19,
      "metadata": {
        "colab": {
          "base_uri": "https://localhost:8080/"
        },
        "id": "7Dh4dGEN7BRt",
        "outputId": "060a8bbf-0e57-446a-ab4f-70efdd565d42"
      },
      "outputs": [
        {
          "name": "stdout",
          "output_type": "stream",
          "text": [
            "RMSE for eta = 0.3 is 0.436210\n"
          ]
        }
      ],
      "source": [
        "print(\"RMSE for eta = 0.3 is {:f}\".format(rmse))"
      ]
    },
    {
      "cell_type": "markdown",
      "metadata": {
        "id": "JgsxIl_-iMqw"
      },
      "source": [
        "Now change `eta` first to `0.1` and then to `0.01`"
      ]
    },
    {
      "cell_type": "code",
      "execution_count": 20,
      "metadata": {
        "id": "FH7v7CNuiMqw"
      },
      "outputs": [],
      "source": [
        "%%capture output\n",
        "xgb_params = {\n",
        "    'eta': 0.1, \n",
        "    'max_depth': 6,\n",
        "    'min_child_weight': 1,\n",
        "\n",
        "    'objective': 'reg:squarederror',\n",
        "    'nthread': 8,\n",
        "\n",
        "    'seed': 1,\n",
        "    'verbosity': 1,\n",
        "}\n",
        "\n",
        "model = xgb.train(xgb_params, dtrain, num_boost_round=100, evals=watchlist)\n",
        "\n",
        "y_pred = model.predict(dval)\n",
        "rmse = mean_squared_error(y_val, y_pred, squared=False)"
      ]
    },
    {
      "cell_type": "code",
      "execution_count": 21,
      "metadata": {
        "colab": {
          "base_uri": "https://localhost:8080/"
        },
        "id": "pbex7HaE7UB7",
        "outputId": "eb47f22b-3d1e-4eb1-e7da-7a38d763464c"
      },
      "outputs": [
        {
          "name": "stdout",
          "output_type": "stream",
          "text": [
            "RMSE for eta = 0.1 is 0.432497\n"
          ]
        }
      ],
      "source": [
        "print(\"RMSE for eta = 0.1 is {:f}\".format(rmse))"
      ]
    },
    {
      "cell_type": "code",
      "execution_count": 22,
      "metadata": {
        "id": "7I_qOCGO7QX2"
      },
      "outputs": [],
      "source": [
        "%%capture output\n",
        "xgb_params = {\n",
        "    'eta': 0.01, \n",
        "    'max_depth': 6,\n",
        "    'min_child_weight': 1,\n",
        "\n",
        "    'objective': 'reg:squarederror',\n",
        "    'nthread': 8,\n",
        "\n",
        "    'seed': 1,\n",
        "    'verbosity': 1,\n",
        "}\n",
        "\n",
        "model = xgb.train(xgb_params, dtrain, num_boost_round=100, evals=watchlist)\n",
        "\n",
        "y_pred = model.predict(dval)\n",
        "rmse = mean_squared_error(y_val, y_pred, squared=False)"
      ]
    },
    {
      "cell_type": "code",
      "execution_count": 23,
      "metadata": {
        "colab": {
          "base_uri": "https://localhost:8080/"
        },
        "id": "Nb6ExtoC7awJ",
        "outputId": "cb19c330-66a7-4986-bd8d-4b669024909d"
      },
      "outputs": [
        {
          "name": "stdout",
          "output_type": "stream",
          "text": [
            "RMSE for eta = 0.01 is 1.630452\n"
          ]
        }
      ],
      "source": [
        "print(\"RMSE for eta = 0.01 is {:f}\".format(rmse))"
      ]
    },
    {
      "cell_type": "markdown",
      "metadata": {
        "id": "wjI2vcLjiMqw"
      },
      "source": [
        "Which eta leads to the best RMSE score on the validation dataset?\n",
        "\n",
        "* 0.3\n",
        "* **0.1**\n",
        "* 0.01"
      ]
    }
  ],
  "metadata": {
    "colab": {
      "collapsed_sections": [],
      "name": "homework.ipynb",
      "provenance": []
    },
    "interpreter": {
      "hash": "16035109c97d2e902eb6d81876c7ac8b53397e64a123c0618fe0556545102eb0"
    },
    "kernelspec": {
      "display_name": "Python 3.9.7 64-bit ('learn_env': conda)",
      "name": "python3"
    },
    "language_info": {
      "codemirror_mode": {
        "name": "ipython",
        "version": 3
      },
      "file_extension": ".py",
      "mimetype": "text/x-python",
      "name": "python",
      "nbconvert_exporter": "python",
      "pygments_lexer": "ipython3",
      "version": "3.9.7"
    }
  },
  "nbformat": 4,
  "nbformat_minor": 0
}
