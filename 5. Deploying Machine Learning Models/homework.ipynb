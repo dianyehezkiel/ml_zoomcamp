{
 "cells": [
  {
   "cell_type": "markdown",
   "source": [
    "# 1. Version of Pipenv"
   ],
   "metadata": {}
  },
  {
   "cell_type": "markdown",
   "source": [
    "## 2021.5.29"
   ],
   "metadata": {}
  },
  {
   "cell_type": "markdown",
   "source": [
    "# 2. Checksum for Scikit-Learn 1.0"
   ],
   "metadata": {}
  },
  {
   "cell_type": "markdown",
   "source": [
    "## 121f78d6564000dc5e968394f45aac87981fcaaf2be40cfcd8f07b2baa1e1829"
   ],
   "metadata": {}
  },
  {
   "cell_type": "markdown",
   "source": [
    "# 3. Probability of churning (Script)"
   ],
   "metadata": {}
  },
  {
   "cell_type": "code",
   "execution_count": null,
   "source": [],
   "outputs": [],
   "metadata": {}
  },
  {
   "cell_type": "code",
   "execution_count": null,
   "source": [
    "PREFIX='https://raw.githubusercontent.com/alexeygrigorev/mlbookcamp-code/master/course-zoomcamp/05-deployment/homework'\n",
    "!wget $PREFIX/model1.bin\n",
    "!wget $PREFIX/dv.bin"
   ],
   "outputs": [],
   "metadata": {}
  },
  {
   "cell_type": "code",
   "execution_count": 1,
   "source": [
    "import pickle"
   ],
   "outputs": [],
   "metadata": {}
  }
 ],
 "metadata": {
  "orig_nbformat": 4,
  "language_info": {
   "name": "python",
   "version": "3.9.7",
   "mimetype": "text/x-python",
   "codemirror_mode": {
    "name": "ipython",
    "version": 3
   },
   "pygments_lexer": "ipython3",
   "nbconvert_exporter": "python",
   "file_extension": ".py"
  },
  "kernelspec": {
   "name": "python3",
   "display_name": "Python 3.9.7 64-bit ('learn_env': conda)"
  },
  "interpreter": {
   "hash": "9bb974fa0cc6142a59afcfb9c207eab639d0b62b05239eae56738e28e4683771"
  }
 },
 "nbformat": 4,
 "nbformat_minor": 2
}