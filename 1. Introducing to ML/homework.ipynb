{
  "nbformat": 4,
  "nbformat_minor": 0,
  "metadata": {
    "colab": {
      "name": "homework_week1.ipynb",
      "provenance": [],
      "collapsed_sections": []
    },
    "kernelspec": {
      "name": "python3",
      "display_name": "Python 3"
    },
    "language_info": {
      "name": "python"
    }
  },
  "cells": [
    {
      "cell_type": "markdown",
      "metadata": {
        "id": "yel5mO24k-ql"
      },
      "source": [
        "# 0. Import pacakage and data"
      ]
    },
    {
      "cell_type": "code",
      "metadata": {
        "id": "WYVQn2qqiuVX"
      },
      "source": [
        "import pandas as pd\n",
        "import numpy as np"
      ],
      "execution_count": 1,
      "outputs": []
    },
    {
      "cell_type": "code",
      "metadata": {
        "colab": {
          "base_uri": "https://localhost:8080/",
          "height": 428
        },
        "id": "BMd-fTMzi2ym",
        "outputId": "89ab489a-4a3b-4188-c902-7b2aec8ccd6c"
      },
      "source": [
        "!wget https://raw.githubusercontent.com/alexeygrigorev/mlbookcamp-code/master/chapter-02-car-price/data.csv\n",
        "\n",
        "df = pd.read_csv('data.csv')\n",
        "\n",
        "df.columns = df.columns.str.lower().str.replace(' ', '_')\n",
        "\n",
        "string_columns = list(df.dtypes[df.dtypes == 'object'].index)\n",
        "\n",
        "for col in string_columns:\n",
        "    df[col] = df[col].str.lower().str.replace(' ', '_')\n",
        "\n",
        "display(df.head())"
      ],
      "execution_count": 2,
      "outputs": [
        {
          "output_type": "stream",
          "name": "stdout",
          "text": [
            "--2021-09-12 20:04:08--  https://raw.githubusercontent.com/alexeygrigorev/mlbookcamp-code/master/chapter-02-car-price/data.csv\n",
            "Resolving raw.githubusercontent.com (raw.githubusercontent.com)... 185.199.108.133, 185.199.109.133, 185.199.110.133, ...\n",
            "Connecting to raw.githubusercontent.com (raw.githubusercontent.com)|185.199.108.133|:443... connected.\n",
            "HTTP request sent, awaiting response... 200 OK\n",
            "Length: 1475504 (1.4M) [text/plain]\n",
            "Saving to: ‘data.csv.2’\n",
            "\n",
            "\rdata.csv.2            0%[                    ]       0  --.-KB/s               \rdata.csv.2          100%[===================>]   1.41M  --.-KB/s    in 0.06s   \n",
            "\n",
            "2021-09-12 20:04:08 (23.4 MB/s) - ‘data.csv.2’ saved [1475504/1475504]\n",
            "\n"
          ]
        },
        {
          "output_type": "display_data",
          "data": {
            "text/html": [
              "<div>\n",
              "<style scoped>\n",
              "    .dataframe tbody tr th:only-of-type {\n",
              "        vertical-align: middle;\n",
              "    }\n",
              "\n",
              "    .dataframe tbody tr th {\n",
              "        vertical-align: top;\n",
              "    }\n",
              "\n",
              "    .dataframe thead th {\n",
              "        text-align: right;\n",
              "    }\n",
              "</style>\n",
              "<table border=\"1\" class=\"dataframe\">\n",
              "  <thead>\n",
              "    <tr style=\"text-align: right;\">\n",
              "      <th></th>\n",
              "      <th>make</th>\n",
              "      <th>model</th>\n",
              "      <th>year</th>\n",
              "      <th>engine_fuel_type</th>\n",
              "      <th>engine_hp</th>\n",
              "      <th>engine_cylinders</th>\n",
              "      <th>transmission_type</th>\n",
              "      <th>driven_wheels</th>\n",
              "      <th>number_of_doors</th>\n",
              "      <th>market_category</th>\n",
              "      <th>vehicle_size</th>\n",
              "      <th>vehicle_style</th>\n",
              "      <th>highway_mpg</th>\n",
              "      <th>city_mpg</th>\n",
              "      <th>popularity</th>\n",
              "      <th>msrp</th>\n",
              "    </tr>\n",
              "  </thead>\n",
              "  <tbody>\n",
              "    <tr>\n",
              "      <th>0</th>\n",
              "      <td>bmw</td>\n",
              "      <td>1_series_m</td>\n",
              "      <td>2011</td>\n",
              "      <td>premium_unleaded_(required)</td>\n",
              "      <td>335.0</td>\n",
              "      <td>6.0</td>\n",
              "      <td>manual</td>\n",
              "      <td>rear_wheel_drive</td>\n",
              "      <td>2.0</td>\n",
              "      <td>factory_tuner,luxury,high-performance</td>\n",
              "      <td>compact</td>\n",
              "      <td>coupe</td>\n",
              "      <td>26</td>\n",
              "      <td>19</td>\n",
              "      <td>3916</td>\n",
              "      <td>46135</td>\n",
              "    </tr>\n",
              "    <tr>\n",
              "      <th>1</th>\n",
              "      <td>bmw</td>\n",
              "      <td>1_series</td>\n",
              "      <td>2011</td>\n",
              "      <td>premium_unleaded_(required)</td>\n",
              "      <td>300.0</td>\n",
              "      <td>6.0</td>\n",
              "      <td>manual</td>\n",
              "      <td>rear_wheel_drive</td>\n",
              "      <td>2.0</td>\n",
              "      <td>luxury,performance</td>\n",
              "      <td>compact</td>\n",
              "      <td>convertible</td>\n",
              "      <td>28</td>\n",
              "      <td>19</td>\n",
              "      <td>3916</td>\n",
              "      <td>40650</td>\n",
              "    </tr>\n",
              "    <tr>\n",
              "      <th>2</th>\n",
              "      <td>bmw</td>\n",
              "      <td>1_series</td>\n",
              "      <td>2011</td>\n",
              "      <td>premium_unleaded_(required)</td>\n",
              "      <td>300.0</td>\n",
              "      <td>6.0</td>\n",
              "      <td>manual</td>\n",
              "      <td>rear_wheel_drive</td>\n",
              "      <td>2.0</td>\n",
              "      <td>luxury,high-performance</td>\n",
              "      <td>compact</td>\n",
              "      <td>coupe</td>\n",
              "      <td>28</td>\n",
              "      <td>20</td>\n",
              "      <td>3916</td>\n",
              "      <td>36350</td>\n",
              "    </tr>\n",
              "    <tr>\n",
              "      <th>3</th>\n",
              "      <td>bmw</td>\n",
              "      <td>1_series</td>\n",
              "      <td>2011</td>\n",
              "      <td>premium_unleaded_(required)</td>\n",
              "      <td>230.0</td>\n",
              "      <td>6.0</td>\n",
              "      <td>manual</td>\n",
              "      <td>rear_wheel_drive</td>\n",
              "      <td>2.0</td>\n",
              "      <td>luxury,performance</td>\n",
              "      <td>compact</td>\n",
              "      <td>coupe</td>\n",
              "      <td>28</td>\n",
              "      <td>18</td>\n",
              "      <td>3916</td>\n",
              "      <td>29450</td>\n",
              "    </tr>\n",
              "    <tr>\n",
              "      <th>4</th>\n",
              "      <td>bmw</td>\n",
              "      <td>1_series</td>\n",
              "      <td>2011</td>\n",
              "      <td>premium_unleaded_(required)</td>\n",
              "      <td>230.0</td>\n",
              "      <td>6.0</td>\n",
              "      <td>manual</td>\n",
              "      <td>rear_wheel_drive</td>\n",
              "      <td>2.0</td>\n",
              "      <td>luxury</td>\n",
              "      <td>compact</td>\n",
              "      <td>convertible</td>\n",
              "      <td>28</td>\n",
              "      <td>18</td>\n",
              "      <td>3916</td>\n",
              "      <td>34500</td>\n",
              "    </tr>\n",
              "  </tbody>\n",
              "</table>\n",
              "</div>"
            ],
            "text/plain": [
              "  make       model  year  ... city_mpg  popularity   msrp\n",
              "0  bmw  1_series_m  2011  ...       19        3916  46135\n",
              "1  bmw    1_series  2011  ...       19        3916  40650\n",
              "2  bmw    1_series  2011  ...       20        3916  36350\n",
              "3  bmw    1_series  2011  ...       18        3916  29450\n",
              "4  bmw    1_series  2011  ...       18        3916  34500\n",
              "\n",
              "[5 rows x 16 columns]"
            ]
          },
          "metadata": {}
        }
      ]
    },
    {
      "cell_type": "markdown",
      "metadata": {
        "id": "GjCZrBoBlQk3"
      },
      "source": [
        "# 1. Numpy version"
      ]
    },
    {
      "cell_type": "code",
      "metadata": {
        "colab": {
          "base_uri": "https://localhost:8080/"
        },
        "id": "8HA_6IjFix4n",
        "outputId": "87cce2cf-4df4-43b3-c9fb-3172b3cc476f"
      },
      "source": [
        "print(np.__version__)"
      ],
      "execution_count": 3,
      "outputs": [
        {
          "output_type": "stream",
          "name": "stdout",
          "text": [
            "1.19.5\n"
          ]
        }
      ]
    },
    {
      "cell_type": "markdown",
      "metadata": {
        "id": "xo0QztIale96"
      },
      "source": [
        "# 2. Pandas version"
      ]
    },
    {
      "cell_type": "code",
      "metadata": {
        "colab": {
          "base_uri": "https://localhost:8080/"
        },
        "id": "bEaVfXfxlPT5",
        "outputId": "86649c8a-0fda-4960-8ebd-c71010883884"
      },
      "source": [
        "print(pd.__version__)"
      ],
      "execution_count": 4,
      "outputs": [
        {
          "output_type": "stream",
          "name": "stdout",
          "text": [
            "1.1.5\n"
          ]
        }
      ]
    },
    {
      "cell_type": "markdown",
      "metadata": {
        "id": "FE3eMALElyNV"
      },
      "source": [
        "# 3. Average price of BMW"
      ]
    },
    {
      "cell_type": "code",
      "metadata": {
        "colab": {
          "base_uri": "https://localhost:8080/"
        },
        "id": "I32MT62-ja75",
        "outputId": "4b74d7e9-aa19-401b-9515-38b3e8423c5b"
      },
      "source": [
        "bmw_mean = (df[df['make'] == 'bmw'])['msrp'].mean()\n",
        "\n",
        "print(bmw_mean)"
      ],
      "execution_count": 5,
      "outputs": [
        {
          "output_type": "stream",
          "name": "stdout",
          "text": [
            "61546.76347305389\n"
          ]
        }
      ]
    },
    {
      "cell_type": "markdown",
      "metadata": {
        "id": "uUc4sP20mJXH"
      },
      "source": [
        "# 4. Number of missing values in \"Engine HP\" after 2015"
      ]
    },
    {
      "cell_type": "code",
      "metadata": {
        "colab": {
          "base_uri": "https://localhost:8080/"
        },
        "id": "4hAy0_7rkCP0",
        "outputId": "632de4f0-1348-4637-8eba-56ff5ed8e7fa"
      },
      "source": [
        "df_after_2015 = df[df['year'] >= 2015]\n",
        "\n",
        "print(df_after_2015['engine_hp'].isnull().sum())"
      ],
      "execution_count": 6,
      "outputs": [
        {
          "output_type": "stream",
          "name": "stdout",
          "text": [
            "51\n"
          ]
        }
      ]
    },
    {
      "cell_type": "markdown",
      "metadata": {
        "id": "aeu-4nm4mWa3"
      },
      "source": [
        "# 5. Does the mean change after filling missing values?"
      ]
    },
    {
      "cell_type": "code",
      "metadata": {
        "colab": {
          "base_uri": "https://localhost:8080/"
        },
        "id": "5uLX1og0jaAj",
        "outputId": "b2b09327-25f9-4cf6-b051-855951c6d673"
      },
      "source": [
        "mean_before = df_after_2015['engine_hp'].mean()\n",
        "\n",
        "print(round(mean_before))\n",
        "\n",
        "mean_after = df_after_2015['engine_hp'].fillna(df_after_2015['engine_hp'].mean()).mean()\n",
        "\n",
        "print(round(mean_after))"
      ],
      "execution_count": 7,
      "outputs": [
        {
          "output_type": "stream",
          "name": "stdout",
          "text": [
            "273\n",
            "273\n"
          ]
        }
      ]
    },
    {
      "cell_type": "markdown",
      "metadata": {
        "id": "7CnHF9c9mebi"
      },
      "source": [
        "# 6. Sum of elements of the inverse matrix"
      ]
    },
    {
      "cell_type": "code",
      "metadata": {
        "colab": {
          "base_uri": "https://localhost:8080/",
          "height": 266
        },
        "id": "4Dbr63xvjLkx",
        "outputId": "c3acf6f5-feee-4b37-9cb0-b2fdf14d1884"
      },
      "source": [
        "df_rr = df[df['make'] == 'rolls-royce']\n",
        "\n",
        "df_rr = df_rr[['engine_hp', 'engine_cylinders', 'highway_mpg']]\n",
        "\n",
        "df_rr_no_duplicates = df_rr.drop_duplicates()\n",
        "\n",
        "display(df_rr_no_duplicates)"
      ],
      "execution_count": 8,
      "outputs": [
        {
          "output_type": "display_data",
          "data": {
            "text/html": [
              "<div>\n",
              "<style scoped>\n",
              "    .dataframe tbody tr th:only-of-type {\n",
              "        vertical-align: middle;\n",
              "    }\n",
              "\n",
              "    .dataframe tbody tr th {\n",
              "        vertical-align: top;\n",
              "    }\n",
              "\n",
              "    .dataframe thead th {\n",
              "        text-align: right;\n",
              "    }\n",
              "</style>\n",
              "<table border=\"1\" class=\"dataframe\">\n",
              "  <thead>\n",
              "    <tr style=\"text-align: right;\">\n",
              "      <th></th>\n",
              "      <th>engine_hp</th>\n",
              "      <th>engine_cylinders</th>\n",
              "      <th>highway_mpg</th>\n",
              "    </tr>\n",
              "  </thead>\n",
              "  <tbody>\n",
              "    <tr>\n",
              "      <th>2921</th>\n",
              "      <td>325.0</td>\n",
              "      <td>8.0</td>\n",
              "      <td>15</td>\n",
              "    </tr>\n",
              "    <tr>\n",
              "      <th>3505</th>\n",
              "      <td>563.0</td>\n",
              "      <td>12.0</td>\n",
              "      <td>19</td>\n",
              "    </tr>\n",
              "    <tr>\n",
              "      <th>5275</th>\n",
              "      <td>563.0</td>\n",
              "      <td>12.0</td>\n",
              "      <td>21</td>\n",
              "    </tr>\n",
              "    <tr>\n",
              "      <th>5279</th>\n",
              "      <td>563.0</td>\n",
              "      <td>12.0</td>\n",
              "      <td>20</td>\n",
              "    </tr>\n",
              "    <tr>\n",
              "      <th>7443</th>\n",
              "      <td>322.0</td>\n",
              "      <td>12.0</td>\n",
              "      <td>15</td>\n",
              "    </tr>\n",
              "    <tr>\n",
              "      <th>7553</th>\n",
              "      <td>453.0</td>\n",
              "      <td>12.0</td>\n",
              "      <td>19</td>\n",
              "    </tr>\n",
              "    <tr>\n",
              "      <th>11448</th>\n",
              "      <td>624.0</td>\n",
              "      <td>12.0</td>\n",
              "      <td>21</td>\n",
              "    </tr>\n",
              "  </tbody>\n",
              "</table>\n",
              "</div>"
            ],
            "text/plain": [
              "       engine_hp  engine_cylinders  highway_mpg\n",
              "2921       325.0               8.0           15\n",
              "3505       563.0              12.0           19\n",
              "5275       563.0              12.0           21\n",
              "5279       563.0              12.0           20\n",
              "7443       322.0              12.0           15\n",
              "7553       453.0              12.0           19\n",
              "11448      624.0              12.0           21"
            ]
          },
          "metadata": {}
        }
      ]
    },
    {
      "cell_type": "code",
      "metadata": {
        "colab": {
          "base_uri": "https://localhost:8080/"
        },
        "id": "AAGNH9dpkiNe",
        "outputId": "acfde495-b212-4e2c-a96c-81d71576b55a"
      },
      "source": [
        "X = df_rr_no_duplicates.to_numpy()\n",
        "XT = X.T\n",
        "XTX = np.zeros((3, 3))\n",
        "\n",
        "for i in range(len(XT)):\n",
        "  for j in range(len(X[0])):\n",
        "    for k in range(len(X)):\n",
        "      XTX[i][j] += XT[i][k] * X[k][j]\n",
        "\n",
        "print(XTX)"
      ],
      "execution_count": 9,
      "outputs": [
        {
          "output_type": "stream",
          "name": "stdout",
          "text": [
            "[[1.754801e+06 3.965600e+04 6.519600e+04]\n",
            " [3.965600e+04 9.280000e+02 1.500000e+03]\n",
            " [6.519600e+04 1.500000e+03 2.454000e+03]]\n"
          ]
        }
      ]
    },
    {
      "cell_type": "code",
      "metadata": {
        "colab": {
          "base_uri": "https://localhost:8080/"
        },
        "id": "ASgkVhB7kdI0",
        "outputId": "daf83273-34a2-43a6-f189-4b23b0460af7"
      },
      "source": [
        "XTX_inv = np.linalg.inv(XTX)\n",
        "\n",
        "XTX_sum = sum([sum(i) for i in XTX_inv])\n",
        "\n",
        "print(XTX_sum)"
      ],
      "execution_count": 10,
      "outputs": [
        {
          "output_type": "stream",
          "name": "stdout",
          "text": [
            "0.03221232067748614\n"
          ]
        }
      ]
    },
    {
      "cell_type": "markdown",
      "metadata": {
        "id": "xbu368bRmu-u"
      },
      "source": [
        "# 7. Normal equation"
      ]
    },
    {
      "cell_type": "code",
      "metadata": {
        "colab": {
          "base_uri": "https://localhost:8080/"
        },
        "id": "mLz2xXA9kuu-",
        "outputId": "73f108a5-a5af-4d12-ce39-92c7ea2b110f"
      },
      "source": [
        "y = np.array([1000, 1100, 900, 1200, 1000, 850, 1300])\n",
        "\n",
        "XTX_inv_XT = np.zeros((3, 7))\n",
        "\n",
        "for i in range(len(XTX_inv)):\n",
        "  for j in range(len(XT[0])):\n",
        "    for k in range(len(XT)):\n",
        "      XTX_inv_XT[i][j] += XTX_inv[i][k] * XT[k][j]\n",
        "\n",
        "w = np.zeros(3)\n",
        "\n",
        "for i in range(len(XTX_inv_XT)):\n",
        "  for k in range(len(y)):\n",
        "    w[i] += XTX_inv_XT[i][k] * y[k]\n",
        "\n",
        "print(w)"
      ],
      "execution_count": 11,
      "outputs": [
        {
          "output_type": "stream",
          "name": "stdout",
          "text": [
            "[ 0.19989598 31.02612262 31.65378877]\n"
          ]
        }
      ]
    }
  ]
}
